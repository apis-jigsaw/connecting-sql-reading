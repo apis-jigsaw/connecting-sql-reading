{
 "cells": [
  {
   "cell_type": "markdown",
   "metadata": {},
   "source": [
    "# Flask and SQL"
   ]
  },
  {
   "cell_type": "markdown",
   "metadata": {},
   "source": [
    "### Introduction"
   ]
  },
  {
   "cell_type": "markdown",
   "metadata": {},
   "source": [
    "Now that we understnad a bit about how to setup flask, the next step is to connect flask to our database.  That's what we'll explore in this lesson."
   ]
  },
  {
   "cell_type": "markdown",
   "metadata": {},
   "source": [
    "### Getting our Data"
   ]
  },
  {
   "cell_type": "markdown",
   "metadata": {},
   "source": [
    "We can quickly get some data and load it into a database with the following."
   ]
  },
  {
   "cell_type": "code",
   "execution_count": 1,
   "metadata": {},
   "outputs": [],
   "source": [
    "import pandas as pd\n",
    "url = \"https://raw.githubusercontent.com/jigsawlabs-student/connecting-sql-reading/master/nhl_players.csv\"\n",
    "df = pd.read_csv(url)"
   ]
  },
  {
   "cell_type": "code",
   "execution_count": 3,
   "metadata": {},
   "outputs": [],
   "source": [
    "import sqlite3\n",
    "conn = sqlite3.connect('nhl.db')"
   ]
  },
  {
   "cell_type": "code",
   "execution_count": 4,
   "metadata": {},
   "outputs": [
    {
     "name": "stderr",
     "output_type": "stream",
     "text": [
      "/Users/jeff/opt/anaconda3/lib/python3.8/site-packages/pandas/core/generic.py:2605: UserWarning: The spaces in these column names will not be changed. In pandas versions < 0.14, spaces were converted to underscores.\n",
      "  sql.to_sql(\n"
     ]
    }
   ],
   "source": [
    "df.to_sql('players', conn, index = False)"
   ]
  },
  {
   "cell_type": "code",
   "execution_count": 5,
   "metadata": {},
   "outputs": [],
   "source": [
    "cursor = conn.cursor()"
   ]
  },
  {
   "cell_type": "code",
   "execution_count": 6,
   "metadata": {},
   "outputs": [
    {
     "data": {
      "text/plain": [
       "(0,\n",
       " 0,\n",
       " 'Connor Bunnaman',\n",
       " 21,\n",
       " '6\\' 1\"',\n",
       " '207 lbs',\n",
       " 'L',\n",
       " 'Guelph, ON',\n",
       " '04/16/98',\n",
       " 82)"
      ]
     },
     "execution_count": 6,
     "metadata": {},
     "output_type": "execute_result"
    }
   ],
   "source": [
    "cursor.execute('select * from players where id = 0;')\n",
    "cursor.fetchone()"
   ]
  },
  {
   "cell_type": "markdown",
   "metadata": {},
   "source": [
    "So, now the idea is that we can use SQL to find the appropriate information for the user.  A user can reach an api with  `/nhl/players`, and then we will make a SQL call to return all of the players."
   ]
  },
  {
   "cell_type": "markdown",
   "metadata": {},
   "source": [
    "### Seeing it in Action"
   ]
  },
  {
   "cell_type": "markdown",
   "metadata": {},
   "source": [
    "```python\n",
    "# application.py\n",
    "import sqlite3\n",
    "from flask import Flask, jsonify\n",
    "\n",
    "app = Flask(__name__)\n",
    "\n",
    "@app.route('/nhl/players/')\n",
    "def players():\n",
    "    conn = sqlite3.connect('nhl.db')\n",
    "    cursor = conn.cursor()\n",
    "    cursor.execute('select * from players;')\n",
    "    players = cursor.fetchall()\n",
    "    return jsonify(players)\n",
    "\n",
    "app.run(debug = True)\n",
    "```"
   ]
  },
  {
   "cell_type": "markdown",
   "metadata": {},
   "source": [
    "Then from the command line run the following."
   ]
  },
  {
   "cell_type": "markdown",
   "metadata": {},
   "source": [
    "`python application.py`"
   ]
  },
  {
   "cell_type": "markdown",
   "metadata": {},
   "source": [
    "And if we visit, `/nhl/players/`, we see the following:"
   ]
  },
  {
   "cell_type": "markdown",
   "metadata": {},
   "source": [
    "<img src=\"./nhl_players_json.png\" width=\"30%\">"
   ]
  },
  {
   "cell_type": "markdown",
   "metadata": {},
   "source": [
    "So we get a list of our records.  "
   ]
  },
  {
   "cell_type": "markdown",
   "metadata": {},
   "source": [
    "### The show route"
   ]
  },
  {
   "cell_type": "markdown",
   "metadata": {},
   "source": [
    "Now if we think of an API, we can also request information of a single member of the resource: here a single player.  We do this through, something like the following:   "
   ]
  },
  {
   "cell_type": "markdown",
   "metadata": {},
   "source": [
    "`/nhl/players/1`\n",
    "\n",
    "And then from here, the api returns the player with id = 1.  Ok, let's see how we can set this up.  We add another route that looks like the following:"
   ]
  },
  {
   "cell_type": "markdown",
   "metadata": {},
   "source": [
    "```python\n",
    "@app.route('/nhl/players/<id>')\n",
    "def show_player(player_id):\n",
    "    conn = sqlite3.connect('nhl.db')\n",
    "    cursor = conn.cursor()\n",
    "    cursor.execute('select * from players where id = ?;', (player_id,))\n",
    "    return cursor.fetchone()\n",
    "```"
   ]
  },
  {
   "cell_type": "markdown",
   "metadata": {},
   "source": [
    "So we add a new route `/nhl/players/<id>`.  By placing the `<id>` we are saying that this part of the route is dynamic.  Whatever value the user passes through is that passed as an argument to the `show_player` function as the player id.\n",
    "\n",
    "So if the user visits `/nhl/players/1`, then `show_player` is called with `player_id` equal to 1.  Then we execute the sql function that finds the player with the id of the `player_id`.  This record is then returned."
   ]
  },
  {
   "cell_type": "markdown",
   "metadata": {},
   "source": [
    "<img src=\"./sean_coots.png\" width=\"40%\">"
   ]
  },
  {
   "cell_type": "markdown",
   "metadata": {},
   "source": [
    "### Summary"
   ]
  },
  {
   "cell_type": "markdown",
   "metadata": {},
   "source": [
    "In this lesson, we saw how to setup a flask API with SQL.  We did so by setting up the index route, which returns a list of all of the records, and the show route which returns a single record.  In each case, we set up the mechanism that triggers the appropriate call to our database.\n",
    "\n",
    "With the show route, where we select a single record, there are a couple of steps involved.  The first is to allow the user to make dynamic requests to our route by specifying the following:\n",
    "\n",
    "`@app.route('/nhl/players/<id>')`"
   ]
  },
  {
   "cell_type": "markdown",
   "metadata": {},
   "source": [
    "Then, we take the id value (anything after `/nhl/players/`) and that becomes the argument to our function (`player_id`).  We use that player id to return the correct player information from the api."
   ]
  },
  {
   "cell_type": "code",
   "execution_count": 16,
   "metadata": {},
   "outputs": [],
   "source": [
    "def show_player(player_id):\n",
    "    conn = sqlite3.connect('nhl.db')\n",
    "    cursor = conn.cursor()\n",
    "    cursor.execute('select * from players where id = ?;', (player_id,))\n",
    "    return jsonify(cursor.fetchone())"
   ]
  },
  {
   "cell_type": "markdown",
   "metadata": {},
   "source": [
    "### Resources"
   ]
  },
  {
   "cell_type": "markdown",
   "metadata": {},
   "source": [
    "[Flask Tutorial](http://flask.palletsprojects.com/en/0.12.x/tutorial/setup/)"
   ]
  }
 ],
 "metadata": {
  "kernelspec": {
   "display_name": "Python 3",
   "language": "python",
   "name": "python3"
  },
  "language_info": {
   "codemirror_mode": {
    "name": "ipython",
    "version": 3
   },
   "file_extension": ".py",
   "mimetype": "text/x-python",
   "name": "python",
   "nbconvert_exporter": "python",
   "pygments_lexer": "ipython3",
   "version": "3.8.3"
  }
 },
 "nbformat": 4,
 "nbformat_minor": 4
}
