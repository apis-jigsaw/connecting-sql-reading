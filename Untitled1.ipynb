{
 "cells": [
  {
   "cell_type": "code",
   "execution_count": null,
   "metadata": {},
   "outputs": [],
   "source": []
  },
  {
   "cell_type": "markdown",
   "metadata": {},
   "source": [
    "### Updating the Response"
   ]
  },
  {
   "cell_type": "markdown",
   "metadata": {},
   "source": [
    "Now one thing we may notice from the above, is that each player is currently represented, as a list.  It would be better if our players were represented as dictionaries.  Let's also take another look at the code."
   ]
  },
  {
   "cell_type": "markdown",
   "metadata": {},
   "source": [
    "```python\n",
    "# application.py\n",
    "import sqlite3\n",
    "from flask import Flask, jsonify\n",
    "\n",
    "app = Flask(__name__)\n",
    "\n",
    "@app.route('/nhl/players/')\n",
    "def show_players():\n",
    "    conn = sqlite3.connect('nhl.db')\n",
    "    cursor = conn.cursor()\n",
    "    cursor.execute('select * from players;')\n",
    "    players = cursor.fetchall()\n",
    "    return jsonify(players)\n",
    "\n",
    "app.run(debug = True)\n",
    "```"
   ]
  },
  {
   "cell_type": "markdown",
   "metadata": {},
   "source": [
    "Perhaps one way that we can get those list of dictionaries is to create a list of player objects with our return value from the database.  Remember, this is essentially what our `build_from_records` function did for us: initialized instances with records from our database.  Ok, let's see how we can do this."
   ]
  },
  {
   "cell_type": "markdown",
   "metadata": {},
   "source": [
    "> We can write our Player class in a `player.py` file."
   ]
  },
  {
   "cell_type": "code",
   "execution_count": 12,
   "metadata": {},
   "outputs": [],
   "source": [
    "class Player:\n",
    "    __table__ = 'players'\n",
    "    columns = ['id', 'name', 'age', 'height', 'weight', \n",
    "               'shot', 'birth_place', 'birthdate', 'number']\n",
    "    \n",
    "    def __init__(self, **kwargs):\n",
    "        for k, v in kwargs.items():\n",
    "            setattr(self, k, v)"
   ]
  },
  {
   "cell_type": "code",
   "execution_count": 13,
   "metadata": {},
   "outputs": [
    {
     "data": {
      "text/plain": [
       "<__main__.Player at 0x116252d30>"
      ]
     },
     "execution_count": 13,
     "metadata": {},
     "output_type": "execute_result"
    }
   ],
   "source": [
    "Player(name = 'claude giroux')"
   ]
  },
  {
   "cell_type": "markdown",
   "metadata": {},
   "source": [
    "Then we can use `build_from_records` to convert our list of player records from the database into a list of player objects."
   ]
  },
  {
   "cell_type": "markdown",
   "metadata": {},
   "source": [
    "```python\n",
    "@app.route('/nhl/players/')\n",
    "def show_players():\n",
    "    conn = sqlite3.connect('nhl.db')\n",
    "    cursor = conn.cursor()\n",
    "    cursor.execute('select * from players;')\n",
    "    player_records = cursor.fetchall()\n",
    "    build_from_records(Player, players)\n",
    "    return jsonify(players)\n",
    "```"
   ]
  },
  {
   "cell_type": "markdown",
   "metadata": {},
   "source": [
    "### One more change"
   ]
  },
  {
   "cell_type": "markdown",
   "metadata": {},
   "source": [
    "Finally, we can connect tell our Flask application about our database by changing the config of the app."
   ]
  },
  {
   "cell_type": "markdown",
   "metadata": {},
   "source": [
    "```python\n",
    "app.config.update(\n",
    "    dict(DATABASE=os.path.join(app.root_path, 'nhl.db'))\n",
    ")\n",
    "```"
   ]
  },
  {
   "cell_type": "markdown",
   "metadata": {},
   "source": [
    "And then in the `show_player` function we can change our code to the following:"
   ]
  },
  {
   "cell_type": "markdown",
   "metadata": {},
   "source": [
    "```python\n",
    "conn = sqlite3.connect(app.config['DATABASE'])\n",
    "cursor = conn.cursor()\n",
    "...\n",
    "```"
   ]
  },
  {
   "cell_type": "markdown",
   "metadata": {},
   "source": [
    "### Adding Objects"
   ]
  },
  {
   "cell_type": "markdown",
   "metadata": {},
   "source": [
    "Before we add in some HTML, there is still the fact that working with objects is simply better, and easier than the tuple we get back from sqlite3.  So immediately after we select the player's information from SQL, we can then create a player instance with this information.  Of course to do that, we first need to create a Player class, and then import it into our `application.py` file.  Let's do that.  We'll create a `player.py` file, where we'll define a Player class as the following:"
   ]
  },
  {
   "cell_type": "code",
   "execution_count": 51,
   "metadata": {},
   "outputs": [],
   "source": []
  },
  {
   "cell_type": "markdown",
   "metadata": {},
   "source": [
    "Then we can update the `show_player` function so that after selecting the information of the player from the database, it initializes an instance of a player, with that information."
   ]
  },
  {
   "cell_type": "markdown",
   "metadata": {},
   "source": [
    "We'll get `player_info` tuple from sqlite3 like the following:"
   ]
  },
  {
   "cell_type": "code",
   "execution_count": 60,
   "metadata": {},
   "outputs": [],
   "source": [
    "player_info = (2, 'Kevin Hayes', 27, '6\\' 5\"', '216 lbs', 'L', 'Boston, MA', '05/08/92', 13)"
   ]
  },
  {
   "cell_type": "markdown",
   "metadata": {},
   "source": [
    "And now we need to initialize an object with this information."
   ]
  },
  {
   "cell_type": "markdown",
   "metadata": {},
   "source": [
    "One way is to specify all of the arguments."
   ]
  },
  {
   "cell_type": "code",
   "execution_count": 64,
   "metadata": {},
   "outputs": [],
   "source": [
    "hayes = Player(id = player_info[0], name = player_info[1],\n",
    "       age = player_info[2], height = player_info[3],\n",
    "       weight = player_info[4], shot = player_info[5],\n",
    "       birth_place = player_info[6], birthdate = player_info[7],\n",
    "       number = player_info[8]\n",
    "      )"
   ]
  },
  {
   "cell_type": "code",
   "execution_count": 65,
   "metadata": {},
   "outputs": [
    {
     "data": {
      "text/plain": [
       "{'id': 2,\n",
       " 'name': 'Kevin Hayes',\n",
       " 'age': 27,\n",
       " 'height': '6\\' 5\"',\n",
       " 'weight': '216 lbs',\n",
       " 'shot': 'L',\n",
       " 'birth_place': 'Boston, MA',\n",
       " 'birthdate': '05/08/92',\n",
       " 'number': 13}"
      ]
     },
     "execution_count": 65,
     "metadata": {},
     "output_type": "execute_result"
    }
   ],
   "source": [
    "hayes.__dict__"
   ]
  },
  {
   "cell_type": "markdown",
   "metadata": {},
   "source": [
    "Another way is to take our `player_info` and use *args to initialize the instance."
   ]
  },
  {
   "cell_type": "code",
   "execution_count": 2,
   "metadata": {},
   "outputs": [],
   "source": [
    "player_info = (2, 'Kevin Hayes', 27, '6\\' 5\"', '216 lbs', 'L', 'Boston, MA', '05/08/92', 13)"
   ]
  },
  {
   "cell_type": "code",
   "execution_count": 66,
   "metadata": {},
   "outputs": [],
   "source": [
    "hayes = Player(*player_info)"
   ]
  },
  {
   "cell_type": "code",
   "execution_count": 68,
   "metadata": {},
   "outputs": [
    {
     "data": {
      "text/plain": [
       "{'id': 2,\n",
       " 'name': 'Kevin Hayes',\n",
       " 'age': 27,\n",
       " 'height': '6\\' 5\"',\n",
       " 'weight': '216 lbs',\n",
       " 'shot': 'L',\n",
       " 'birth_place': 'Boston, MA',\n",
       " 'birthdate': '05/08/92',\n",
       " 'number': 13}"
      ]
     },
     "execution_count": 68,
     "metadata": {},
     "output_type": "execute_result"
    }
   ],
   "source": [
    "hayes.__dict__"
   ]
  },
  {
   "cell_type": "markdown",
   "metadata": {},
   "source": [
    "Ok, let's use the second way because it's easier.  We'll update our `application.py` file to load in the Player class, and initialize a new player with the data retrieved from the database."
   ]
  },
  {
   "cell_type": "markdown",
   "metadata": {},
   "source": [
    "```python\n",
    "# application.py\n",
    "import sqlite3\n",
    "from flask import Flask, render_template\n",
    "from player import Player\n",
    "\n",
    "app = Flask(__name__, static_folder='public', template_folder='views')\n",
    "\n",
    "@app.route('/nhl/players/<player_id>')\n",
    "def show_player(player_id):\n",
    "    conn = sqlite3.connect('nhl.db')\n",
    "    cursor = conn.cursor()\n",
    "    cursor.execute('select * from players where id = ?;', player_id)\n",
    "    player_details = cursor.fetchone()\n",
    "    player = Player(*player_details)\n",
    "    return str(player.__dict__)\n",
    "\n",
    "app.run()\n",
    "```"
   ]
  },
  {
   "cell_type": "markdown",
   "metadata": {},
   "source": [
    "<img src=\"./sean-dict.png\">"
   ]
  },
  {
   "cell_type": "markdown",
   "metadata": {},
   "source": [
    "<img src=\"./travis.png\">"
   ]
  },
  {
   "cell_type": "markdown",
   "metadata": {},
   "source": [
    "### Adding HTML"
   ]
  },
  {
   "cell_type": "markdown",
   "metadata": {},
   "source": [
    "Finally, we can add in some HTML to our website.  We can update our `show_player` function to render the `player.html` file."
   ]
  },
  {
   "cell_type": "code",
   "execution_count": null,
   "metadata": {},
   "outputs": [],
   "source": [
    "# application.py\n",
    "import sqlite3\n",
    "from flask import Flask, render_template\n",
    "from player import Player\n",
    "\n",
    "app = Flask(__name__, static_folder='public', template_folder='views')\n",
    "\n",
    "@app.route('/nhl/players/<player_id>')\n",
    "def show_player(player_id):\n",
    "    conn = sqlite3.connect('nhl.db')\n",
    "    cursor = conn.cursor()\n",
    "    cursor.execute('select * from players where id = ?;', player_id)\n",
    "    player_details = cursor.fetchone()\n",
    "    player = Player(*player_details)\n",
    "    return render_template('player.html',  player = player)\n",
    "\n",
    "app.run()"
   ]
  },
  {
   "cell_type": "markdown",
   "metadata": {},
   "source": [
    "And then in our `views/player.html` file we have the following:"
   ]
  },
  {
   "cell_type": "markdown",
   "metadata": {},
   "source": [
    "```html\n",
    "Welcome to the webpage of \n",
    "<h1> {{player.name}}</h1>\n",
    "```"
   ]
  },
  {
   "cell_type": "markdown",
   "metadata": {},
   "source": [
    "### Updating our HTML"
   ]
  },
  {
   "cell_type": "markdown",
   "metadata": {},
   "source": [
    "Finally, we copied and pasted some of the HTML from ESPN for you.  We did so by simply visiting [the following](view-source:http://www.espn.com/nhl/player/_/id/2562601) and pasting it into a file called `views/player-1.html`."
   ]
  },
  {
   "cell_type": "markdown",
   "metadata": {},
   "source": [
    "Then if you look at line 691 of the file, you can see that we modified some of the HTML with our special `{{player.name}}`.  So now if you update the `show_player` method to render this file, you should see ESPN's player page with different player information from your website."
   ]
  },
  {
   "cell_type": "markdown",
   "metadata": {},
   "source": [
    "```python\n",
    "def show_player(player_id):\n",
    "    conn = sqlite3.connect('nhl.db')\n",
    "    cursor = conn.cursor()\n",
    "    cursor.execute('select * from players where id = ?;', player_id)\n",
    "    player_details = cursor.fetchone()\n",
    "    player = Player(*player_details)\n",
    "    return render_template('player-1.html',  player = player)\n",
    "```"
   ]
  },
  {
   "cell_type": "markdown",
   "metadata": {},
   "source": [
    "All we're doing is changing the player's name.  We'll leave it to you to make some of the other information dynamic."
   ]
  }
 ],
 "metadata": {
  "kernelspec": {
   "display_name": "Python 3",
   "language": "python",
   "name": "python3"
  },
  "language_info": {
   "codemirror_mode": {
    "name": "ipython",
    "version": 3
   },
   "file_extension": ".py",
   "mimetype": "text/x-python",
   "name": "python",
   "nbconvert_exporter": "python",
   "pygments_lexer": "ipython3",
   "version": "3.8.3"
  }
 },
 "nbformat": 4,
 "nbformat_minor": 4
}
